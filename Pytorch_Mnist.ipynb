{
  "nbformat": 4,
  "nbformat_minor": 0,
  "metadata": {
    "colab": {
      "name": "Pytorch_Mnist.ipynb",
      "provenance": [],
      "include_colab_link": true
    },
    "kernelspec": {
      "name": "python3",
      "display_name": "Python 3"
    }
  },
  "cells": [
    {
      "cell_type": "markdown",
      "metadata": {
        "id": "view-in-github",
        "colab_type": "text"
      },
      "source": [
        "<a href=\"https://colab.research.google.com/github/ameyas1/Pytorch-Notebooks/blob/main/Pytorch_Mnist.ipynb\" target=\"_parent\"><img src=\"https://colab.research.google.com/assets/colab-badge.svg\" alt=\"Open In Colab\"/></a>"
      ]
    },
    {
      "cell_type": "code",
      "metadata": {
        "id": "MiEzFhjobH22"
      },
      "source": [
        "\n",
        "import torch\n",
        "from torchvision import datasets, transforms\n",
        "import helper\n",
        "\n",
        "# Define a transform to normalize the data\n",
        "transform = transforms.Compose([transforms.ToTensor(),\n",
        "                                transforms.Normalize((0.5, 0.5, 0.5), (0.5, 0.5, 0.5))])\n",
        "# Download and load the training data\n",
        "trainset = datasets.FashionMNIST('~/.pytorch/F_MNIST_data/', download=True, train=True, transform=transform)\n",
        "trainloader = torch.utils.data.DataLoader(trainset, batch_size=64, shuffle=True)"
      ],
      "execution_count": null,
      "outputs": []
    },
    {
      "cell_type": "code",
      "metadata": {
        "id": "FjgOzzfdFbBK"
      },
      "source": [
        "testset = datasets.FashionMNIST('~/.pytorch/F_MNIST_data/', download=True, train=False, transform=transform)\n",
        "testloader = torch.utils.data.DataLoader(testset, batch_size=64, shuffle=True)"
      ],
      "execution_count": null,
      "outputs": []
    },
    {
      "cell_type": "code",
      "metadata": {
        "id": "nhDz5D8pbV--",
        "outputId": "f9f2c13c-110e-41b7-81f6-fde0e4f5dd77",
        "colab": {
          "base_uri": "https://localhost:8080/",
          "height": 265
        }
      },
      "source": [
        ""
      ],
      "execution_count": null,
      "outputs": [
        {
          "output_type": "display_data",
          "data": {
            "image/png": "[encoded data removed]",
            "text/plain": [
              "<Figure size 432x288 with 1 Axes>"
            ]
          },
          "metadata": {
            "tags": []
          }
        }
      ]
    },
    {
      "cell_type": "code",
      "metadata": {
        "id": "UuvfrWuvnk1j"
      },
      "source": [
        ""
      ],
      "execution_count": null,
      "outputs": []
    },
    {
      "cell_type": "code",
      "metadata": {
        "id": "5RoCQV3pm4Ym"
      },
      "source": [
        "features=image.view(64,784)"
      ],
      "execution_count": null,
      "outputs": []
    },
    {
      "cell_type": "code",
      "metadata": {
        "id": "Gw3k348iqGay"
      },
      "source": [
        "w1=torch.randn((n_inputs,n_hidden))\n",
        "w2=torch.randn((n_hidden,n_outputs))\n",
        "b1=torch.randn((1,n_hidden))\n",
        "b2=torch.randn((1,n_outputs))"
      ],
      "execution_count": null,
      "outputs": []
    },
    {
      "cell_type": "code",
      "metadata": {
        "id": "GTyUhG4Fq8ox"
      },
      "source": [
        "def activation(x):\n",
        "  return 1/(1+torch.exp(-x))"
      ],
      "execution_count": null,
      "outputs": []
    },
    {
      "cell_type": "code",
      "metadata": {
        "id": "GsM4VFVPtndq"
      },
      "source": [
        "def softmax(x):\n",
        "  return torch.exp(x)/(torch.sum(torch.exp(x),dim=1)).view(-1,1)"
      ],
      "execution_count": null,
      "outputs": []
    },
    {
      "cell_type": "code",
      "metadata": {
        "id": "kZm_1895rGBM"
      },
      "source": [
        "h1=activation(torch.mm(features,w1)+b1)"
      ],
      "execution_count": null,
      "outputs": []
    },
    {
      "cell_type": "code",
      "metadata": {
        "id": "7MMFIvENrcgU"
      },
      "source": [
        "h2=softmax(torch.mm(h1,w2)+b2)"
      ],
      "execution_count": null,
      "outputs": []
    },
    {
      "cell_type": "code",
      "metadata": {
        "id": "gvK_a9UPr0xS",
        "outputId": "a2e625cd-f708-417a-f478-f9019cfaa93a",
        "colab": {
          "base_uri": "https://localhost:8080/",
          "height": 51
        }
      },
      "source": [
        "h2[0]"
      ],
      "execution_count": null,
      "outputs": [
        {
          "output_type": "execute_result",
          "data": {
            "text/plain": [
              "tensor([1.0954e-05, 1.8389e-09, 5.9680e-01, 1.5220e-17, 5.9255e-05, 1.6867e-06,\n",
              "        8.6171e-08, 1.1306e-03, 2.0851e-13, 4.0200e-01])"
            ]
          },
          "metadata": {
            "tags": []
          },
          "execution_count": 37
        }
      ]
    },
    {
      "cell_type": "markdown",
      "metadata": {
        "id": "0nbK5qPSyL-0"
      },
      "source": [
        "**using module**"
      ]
    },
    {
      "cell_type": "code",
      "metadata": {
        "id": "O9g7i9BUyRWa"
      },
      "source": [
        ""
      ],
      "execution_count": null,
      "outputs": []
    },
    {
      "cell_type": "code",
      "metadata": {
        "id": "Y1qksR8ZzBk7",
        "outputId": "33d6448c-2db9-47cb-b332-34369d775c76",
        "colab": {
          "base_uri": "https://localhost:8080/",
          "height": 265
        }
      },
      "source": [
        "import matplotlib.pyplot as plt\n",
        "%matplotlib inline\n",
        "\n",
        "image, label = next(iter(trainloader))\n",
        "plt.imshow(image[0,:].view(28,28));"
      ],
      "execution_count": null,
      "outputs": [
        {
          "output_type": "display_data",
          "data": {
            "image/png": "[encoded data removed]",
            "text/plain": [
              "<Figure size 432x288 with 1 Axes>"
            ]
          },
          "metadata": {
            "tags": []
          }
        }
      ]
    },
    {
      "cell_type": "code",
      "metadata": {
        "id": "hq98LUqpy32e"
      },
      "source": [
        "n_inputs=28*28\n",
        "n_hidden1=256\n",
        "n_hidden2=126\n",
        "n_outputs=10"
      ],
      "execution_count": null,
      "outputs": []
    },
    {
      "cell_type": "code",
      "metadata": {
        "id": "3opjO626yk8b"
      },
      "source": [
        "class Network(nn.Module):\n",
        "    def __init__(self):\n",
        "        super().__init__()\n",
        "        # Inputs to hidden layer linear transformation\n",
        "        self.hidden = nn.Linear(n_inputs,n_hidden)\n",
        "        # Output layer, 10 units - one for each digit\n",
        "        self.output = nn.Linear(n_hidden,n_outputs)\n",
        "        \n",
        "    def forward(self, x):\n",
        "        # Hidden layer with sigmoid activation\n",
        "        x = F.sigmoid(self.hidden(x))\n",
        "        # Output layer with softmax activation\n",
        "        x = F.softmax(self.output(x), dim=1)\n",
        "        \n",
        "        return x"
      ],
      "execution_count": null,
      "outputs": []
    },
    {
      "cell_type": "code",
      "metadata": {
        "id": "6J99XCVFsTZX"
      },
      "source": [
        "from torch import nn\n",
        "import torch.nn.functional as F\n",
        "from torch import optim"
      ],
      "execution_count": null,
      "outputs": []
    },
    {
      "cell_type": "code",
      "metadata": {
        "id": "M-Jc9g5szFvG"
      },
      "source": [
        "model = nn.Sequential(nn.Linear(n_inputs,n_hidden1),\n",
        "                      nn.ReLU(),\n",
        "                      nn.Linear(n_hidden1,n_hidden2),\n",
        "                      nn.ReLU(),\n",
        "                      nn.Linear(n_hidden2, n_outputs),\n",
        "                      nn.LogSoftmax(dim=1))"
      ],
      "execution_count": null,
      "outputs": []
    },
    {
      "cell_type": "code",
      "metadata": {
        "id": "pc5iCPidsvgz"
      },
      "source": [
        "criterion=nn.NLLLoss()"
      ],
      "execution_count": null,
      "outputs": []
    },
    {
      "cell_type": "code",
      "metadata": {
        "id": "dKNo8mxCsSUH"
      },
      "source": [
        "images,labels=next(iter(trainloader))"
      ],
      "execution_count": null,
      "outputs": []
    },
    {
      "cell_type": "code",
      "metadata": {
        "id": "a0e0zBaAtVad"
      },
      "source": [
        "images=images.view(images.shape[0],-1)"
      ],
      "execution_count": null,
      "outputs": []
    },
    {
      "cell_type": "code",
      "metadata": {
        "id": "eOp-PAJzto9W"
      },
      "source": [
        "ans=model(images)"
      ],
      "execution_count": null,
      "outputs": []
    },
    {
      "cell_type": "code",
      "metadata": {
        "id": "nSEfdeiLtvdi"
      },
      "source": [
        "loss=criterion(ans,labels)"
      ],
      "execution_count": null,
      "outputs": []
    },
    {
      "cell_type": "code",
      "metadata": {
        "id": "mFqtQhN2t4Ew",
        "outputId": "7017ce9b-e106-46ed-ca1e-515e3e6df4a2",
        "colab": {
          "base_uri": "https://localhost:8080/",
          "height": 34
        }
      },
      "source": [
        "print(loss)"
      ],
      "execution_count": null,
      "outputs": [
        {
          "output_type": "stream",
          "text": [
            "tensor(2.3086, grad_fn=<NllLossBackward>)\n"
          ],
          "name": "stdout"
        }
      ]
    },
    {
      "cell_type": "code",
      "metadata": {
        "id": "WJyVNfgjD-Of"
      },
      "source": [
        " model = nn.Sequential(nn.Linear(n_inputs,n_hidden1),\n",
        "                      nn.ReLU(),\n",
        "                      nn.Dropout(0.2),\n",
        "                      nn.Linear(n_hidden1,n_hidden2),\n",
        "                      nn.ReLU(),\n",
        "                      nn.Dropout(0.2),\n",
        "                      nn.Linear(n_hidden2, n_outputs),\n",
        "                      nn.LogSoftmax(dim=1))\n",
        "\n",
        "criterion=nn.NLLLoss()\n",
        "optimizer=optim.Adam(model.parameters(),lr=0.003)"
      ],
      "execution_count": null,
      "outputs": []
    },
    {
      "cell_type": "code",
      "metadata": {
        "id": "2at3wQ6nXlfS"
      },
      "source": [
        "train_losses,test_losses=[],[]"
      ],
      "execution_count": null,
      "outputs": []
    },
    {
      "cell_type": "code",
      "metadata": {
        "id": "Y_7Uvjd27Oyr",
        "outputId": "fea09247-21dd-4388-ce2d-06d19a9ef799",
        "colab": {
          "base_uri": "https://localhost:8080/",
          "height": 2097
        }
      },
      "source": [
        "\n",
        "\n",
        "for i in range(30):\n",
        "  running_loss = 0\n",
        "  for images,labels in trainloader:\n",
        "    optimizer.zero_grad()\n",
        "    images=images.view(images.shape[0],-1)\n",
        "    output=model(images)\n",
        "    loss=criterion(output,labels)\n",
        "    running_loss+=loss.item()\n",
        "    loss.backward()\n",
        "    optimizer.step()\n",
        "  else:\n",
        "    test_loss=0\n",
        "    accuracy=0\n",
        "    model.eval()\n",
        "    with torch.no_grad():\n",
        "      for images,labels in testloader:\n",
        "        img=images.view(images.shape[0],-1)\n",
        "        output=model(img)\n",
        "        test_loss+=criterion(output,labels)\n",
        "        ps=torch.exp(output)\n",
        "        top_p,top_class=ps.topk(1,dim=1)\n",
        "        equals=top_class==labels.view(*top_class.shape)\n",
        "        accuracy+=torch.mean(equals.type(torch.FloatTensor))\n",
        "    train_losses.append(running_loss/len(trainloader))\n",
        "    test_losses.append(test_loss/len(testloader))\n",
        "      \n",
        "    model.train()  \n",
        "    print(f\"Epochs: {i+1}/30\")\n",
        "    print(f\"Training Loss: {running_loss/len(trainloader)}\")\n",
        "    print(f\"Testing Loss: {test_loss/len(testloader)}\")\n",
        "    print(f\"Accuracy: {accuracy/len(testloader)}\")\n",
        "  \n",
        "  \n",
        "  "
      ],
      "execution_count": null,
      "outputs": [
        {
          "output_type": "stream",
          "text": [
            "Epochs: 1/30\n",
            "Training Loss: 0.30528999807865126\n",
            "Testing Loss: 0.47447341680526733\n",
            "Accuracy: 0.8541003465652466\n",
            "Epochs: 2/30\n",
            "Training Loss: 0.3062018310702813\n",
            "Testing Loss: 0.45844143629074097\n",
            "Accuracy: 0.8614649772644043\n",
            "Epochs: 3/30\n",
            "Training Loss: 0.3050274800405955\n",
            "Testing Loss: 0.4716917872428894\n",
            "Accuracy: 0.8597730994224548\n",
            "Epochs: 4/30\n",
            "Training Loss: 0.3119265180883377\n",
            "Testing Loss: 0.5171304941177368\n",
            "Accuracy: 0.8540008068084717\n",
            "Epochs: 5/30\n",
            "Training Loss: 0.29918347311807847\n",
            "Testing Loss: 0.46326252818107605\n",
            "Accuracy: 0.8572850227355957\n",
            "Epochs: 6/30\n",
            "Training Loss: 0.30405641932572636\n",
            "Testing Loss: 0.5882652401924133\n",
            "Accuracy: 0.8448447585105896\n",
            "Epochs: 7/30\n",
            "Training Loss: 0.3021236146802206\n",
            "Testing Loss: 0.46867015957832336\n",
            "Accuracy: 0.8578821420669556\n",
            "Epochs: 8/30\n",
            "Training Loss: 0.29860815063103047\n",
            "Testing Loss: 0.46431493759155273\n",
            "Accuracy: 0.8638535141944885\n",
            "Epochs: 9/30\n",
            "Training Loss: 0.30024040750126596\n",
            "Testing Loss: 0.45933353900909424\n",
            "Accuracy: 0.8572850227355957\n",
            "Epochs: 10/30\n",
            "Training Loss: 0.2995530185557759\n",
            "Testing Loss: 0.4457812011241913\n",
            "Accuracy: 0.8676353693008423\n",
            "Epochs: 11/30\n",
            "Training Loss: 0.3015875479480478\n",
            "Testing Loss: 0.45847028493881226\n",
            "Accuracy: 0.8653463125228882\n",
            "Epochs: 12/30\n",
            "Training Loss: 0.29338064079663395\n",
            "Testing Loss: 0.44317033886909485\n",
            "Accuracy: 0.8678343892097473\n",
            "Epochs: 13/30\n",
            "Training Loss: 0.29441724007508396\n",
            "Testing Loss: 0.44501909613609314\n",
            "Accuracy: 0.868630588054657\n",
            "Epochs: 14/30\n",
            "Training Loss: 0.2894512283474779\n",
            "Testing Loss: 0.47894981503486633\n",
            "Accuracy: 0.8508160710334778\n",
            "Epochs: 15/30\n",
            "Training Loss: 0.292920895246491\n",
            "Testing Loss: 0.4661782681941986\n",
            "Accuracy: 0.8653463125228882\n",
            "Epochs: 16/30\n",
            "Training Loss: 0.2896446030038887\n",
            "Testing Loss: 0.4631045460700989\n",
            "Accuracy: 0.8641520738601685\n",
            "Epochs: 17/30\n",
            "Training Loss: 0.2891267109463718\n",
            "Testing Loss: 0.4897589683532715\n",
            "Accuracy: 0.8609673380851746\n",
            "Epochs: 18/30\n",
            "Training Loss: 0.2950316279379925\n",
            "Testing Loss: 0.4580366313457489\n",
            "Accuracy: 0.8648487329483032\n",
            "Epochs: 19/30\n",
            "Training Loss: 0.28343286613093766\n",
            "Testing Loss: 0.48957347869873047\n",
            "Accuracy: 0.8582802414894104\n",
            "Epochs: 20/30\n",
            "Training Loss: 0.28460455194179185\n",
            "Testing Loss: 0.462890625\n",
            "Accuracy: 0.8625597357749939\n",
            "Epochs: 21/30\n",
            "Training Loss: 0.2860952694532968\n",
            "Testing Loss: 0.4968518316745758\n",
            "Accuracy: 0.8582802414894104\n",
            "Epochs: 22/30\n",
            "Training Loss: 0.2861906419526031\n",
            "Testing Loss: 0.47688084840774536\n",
            "Accuracy: 0.8630573153495789\n",
            "Epochs: 23/30\n",
            "Training Loss: 0.28192688955236345\n",
            "Testing Loss: 0.5097123980522156\n",
            "Accuracy: 0.8531050682067871\n",
            "Epochs: 24/30\n",
            "Training Loss: 0.28273057511874605\n",
            "Testing Loss: 0.49114081263542175\n",
            "Accuracy: 0.8627587556838989\n",
            "Epochs: 25/30\n",
            "Training Loss: 0.28795401212662014\n",
            "Testing Loss: 0.5082549452781677\n",
            "Accuracy: 0.8627587556838989\n",
            "Epochs: 26/30\n",
            "Training Loss: 0.2780153975526153\n",
            "Testing Loss: 0.49345168471336365\n",
            "Accuracy: 0.8589769005775452\n",
            "Epochs: 27/30\n",
            "Training Loss: 0.28310902065226135\n",
            "Testing Loss: 0.48152151703834534\n",
            "Accuracy: 0.8616639971733093\n",
            "Epochs: 28/30\n",
            "Training Loss: 0.2814266790967506\n",
            "Testing Loss: 0.46599793434143066\n",
            "Accuracy: 0.8598726391792297\n",
            "Epochs: 29/30\n",
            "Training Loss: 0.2717707122463598\n",
            "Testing Loss: 0.4800274968147278\n",
            "Accuracy: 0.859375\n",
            "Epochs: 30/30\n",
            "Training Loss: 0.27815794410990247\n",
            "Testing Loss: 0.47640037536621094\n",
            "Accuracy: 0.8638535141944885\n"
          ],
          "name": "stdout"
        }
      ]
    },
    {
      "cell_type": "code",
      "metadata": {
        "id": "jbBp0FS_erTl",
        "outputId": "7d0c4d13-9453-4e3e-ab88-34fd08d6b921",
        "colab": {
          "base_uri": "https://localhost:8080/",
          "height": 282
        }
      },
      "source": [
        "plt.plot(train_losses,label='Training Label')\n",
        "plt.plot(test_losses,label='Testing Label')\n",
        "plt.legend(frameon=False)"
      ],
      "execution_count": null,
      "outputs": [
        {
          "output_type": "execute_result",
          "data": {
            "text/plain": [
              "<matplotlib.legend.Legend at 0x7f13bb7042b0>"
            ]
          },
          "metadata": {
            "tags": []
          },
          "execution_count": 70
        },
        {
          "output_type": "display_data",
          "data": {
            "image/png": "[encoded data removed]",
            "text/plain": [
              "<Figure size 432x288 with 1 Axes>"
            ]
          },
          "metadata": {
            "tags": []
          }
        }
      ]
    },
    {
      "cell_type": "code",
      "metadata": {
        "id": "-RJIt9mlhWmy"
      },
      "source": [
        "torch.save(model.state_dict(),'checkpoint.pth')"
      ],
      "execution_count": null,
      "outputs": []
    },
    {
      "cell_type": "code",
      "metadata": {
        "id": "2-GqXchxJhgG",
        "outputId": "1ea9d386-a60b-4933-eebf-8a430e841871",
        "colab": {
          "base_uri": "https://localhost:8080/",
          "height": 34
        }
      },
      "source": [
        "import matplotlib.pyplot as plt\n",
        "import numpy as np\n",
        "\n",
        "def view_classify(img, ps, version=\"MNIST\"):\n",
        "    ''' Function for viewing an image and it's predicted classes.\n",
        "    '''\n",
        "    ps = ps.data.numpy().squeeze()\n",
        "\n",
        "    fig, (ax1, ax2) = plt.subplots(figsize=(6,9), ncols=2)\n",
        "    ax1.imshow(img.resize_(1, 28, 28).numpy().squeeze())\n",
        "    ax1.axis('off')\n",
        "    ax2.barh(np.arange(10), ps)\n",
        "    ax2.set_aspect(0.1)\n",
        "    ax2.set_yticks(np.arange(10))\n",
        "    if version == \"MNIST\":\n",
        "        ax2.set_yticklabels(np.arange(10))\n",
        "    elif version == \"Fashion\":\n",
        "        ax2.set_yticklabels(['T-shirt/top',\n",
        "                            'Trouser',\n",
        "                            'Pullover',\n",
        "                            'Dress',\n",
        "                            'Coat',\n",
        "                            'Sandal',\n",
        "                            'Shirt',\n",
        "                            'Sneaker',\n",
        "                            'Bag',\n",
        "                            'Ankle Boot'], size='small');\n",
        "    ax2.set_title('Class Probability')\n",
        "    ax2.set_xlim(0, 1.1)\n",
        "\n",
        "plt.tight_layout()"
      ],
      "execution_count": null,
      "outputs": [
        {
          "output_type": "display_data",
          "data": {
            "text/plain": [
              "<Figure size 432x288 with 0 Axes>"
            ]
          },
          "metadata": {
            "tags": []
          }
        }
      ]
    },
    {
      "cell_type": "code",
      "metadata": {
        "id": "t0GtHNNRGJO9"
      },
      "source": [
        "%matplotlib inline\n",
        "import helper\n",
        "images,label=next(iter(trainloader))\n",
        "img=images[0].view(1,784)\n"
      ],
      "execution_count": null,
      "outputs": []
    },
    {
      "cell_type": "code",
      "metadata": {
        "id": "GqWPWg1JQw4v",
        "outputId": "aec36662-45bc-4577-b5ea-07427b40089e",
        "colab": {
          "base_uri": "https://localhost:8080/",
          "height": 214
        }
      },
      "source": [
        "with torch.no_grad():\n",
        "  output=model.forward(img)\n",
        "  \n",
        "ps=torch.exp(output)\n",
        "view_classify(img.view(1,28,28),ps,version='Fashion')"
      ],
      "execution_count": null,
      "outputs": [
        {
          "output_type": "display_data",
          "data": {
            "image/png": "[encoded data removed]",
            "text/plain": [
              "<Figure size 432x648 with 2 Axes>"
            ]
          },
          "metadata": {
            "tags": []
          }
        }
      ]
    },
    {
      "cell_type": "code",
      "metadata": {
        "id": "9YXQMOmO9pqg",
        "outputId": "8ab39914-bbda-45cc-fcd3-93f2b788dbc7",
        "colab": {
          "base_uri": "https://localhost:8080/",
          "height": 214
        }
      },
      "source": [
        "output=model.forward(img)\n",
        "  \n",
        "ps=torch.exp(output)\n",
        "view_classify(img.view(1,28,28),ps,version='Fashion')"
      ],
      "execution_count": null,
      "outputs": [
        {
          "output_type": "display_data",
          "data": {
            "image/png": "[encoded data removed]",
            "text/plain": [
              "<Figure size 432x648 with 2 Axes>"
            ]
          },
          "metadata": {
            "tags": []
          }
        }
      ]
    }
  ]
}